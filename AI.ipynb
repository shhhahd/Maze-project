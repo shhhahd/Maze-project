{
 "cells": [
  {
   "cell_type": "code",
   "execution_count": 1,
   "id": "5a8eb34d-d227-4da7-ab5e-0023385b2686",
   "metadata": {},
   "outputs": [
    {
     "name": "stdout",
     "output_type": "stream",
     "text": [
      "Requirement already satisfied: pyamaze in c:\\users\\lenovo\\anaconda3\\lib\\site-packages (1.0.1)\n"
     ]
    }
   ],
   "source": [
    "!pip install pyamaze "
   ]
  },
  {
   "cell_type": "code",
   "execution_count": 2,
   "id": "1347860b-6813-416a-af05-0034703888e4",
   "metadata": {},
   "outputs": [],
   "source": [
    "from pyamaze import maze ,agent"
   ]
  },
  {
   "cell_type": "code",
   "execution_count": 18,
   "id": "09e7da8c-4a46-42d9-9b3d-b1b70b592abf",
   "metadata": {},
   "outputs": [],
   "source": [
    "def DFS(m):\n",
    "    start=(m.rows,m.cols)\n",
    "    explored=[start] ##visted ( , )\n",
    "    frontier=[start] ##fring\n",
    "    dfsPath={}\n",
    "    while len(frontier)>0:\n",
    "        currCell=frontier.pop()\n",
    "        if currCell==(1,1): ##goal\n",
    "            break\n",
    "        for d in 'ESNW':\n",
    "            if m.maze_map[currCell][d]==True:\n",
    "                if d=='E':\n",
    "                  childCell=(currCell[0],currCell[1]+1)\n",
    "                elif d=='W':\n",
    "                  childCell=(currCell[0],currCell[1]-1)   \n",
    "                elif d=='S':\n",
    "                   childCell=(currCell[0]+1,currCell[1])\n",
    "                elif d=='N':\n",
    "                   childCell=(currCell[0]-1,currCell[1])\n",
    "                if childCell in explored:\n",
    "                    continue\n",
    "                explored.append(childCell)\n",
    "                frontier.append(childCell)\n",
    "                dfsPath[childCell]=currCell \n",
    "    fwdPath={}\n",
    "    cell=(1,1)\n",
    "    while cell!=start:\n",
    "       fwdPath[dfsPath[cell]]=cell\n",
    "       cell=dfsPath[cell]\n",
    "    return fwdPath"
   ]
  },
  {
   "cell_type": "code",
   "execution_count": null,
   "id": "f613ad50-5099-4d1e-906f-dd0becb2d2ee",
   "metadata": {},
   "outputs": [],
   "source": [
    "m=maze(5,7)\n",
    "m.CreateMaze(loopPercent=20)\n",
    "path=DFS(m)\n",
    "a=agent(m,footprints=True)\n",
    "m.tracePath({a:path})\n",
    "m.run()"
   ]
  },
  {
   "cell_type": "code",
   "execution_count": null,
   "id": "44750333-a32a-419a-84c6-e1380f071c90",
   "metadata": {},
   "outputs": [],
   "source": []
  },
  {
   "cell_type": "code",
   "execution_count": null,
   "id": "d6d19927-35c9-4e0a-818d-65bd2da9ae0d",
   "metadata": {},
   "outputs": [],
   "source": []
  }
 ],
 "metadata": {
  "kernelspec": {
   "display_name": "Python 3 (ipykernel)",
   "language": "python",
   "name": "python3"
  },
  "language_info": {
   "codemirror_mode": {
    "name": "ipython",
    "version": 3
   },
   "file_extension": ".py",
   "mimetype": "text/x-python",
   "name": "python",
   "nbconvert_exporter": "python",
   "pygments_lexer": "ipython3",
   "version": "3.12.4"
  }
 },
 "nbformat": 4,
 "nbformat_minor": 5
}
